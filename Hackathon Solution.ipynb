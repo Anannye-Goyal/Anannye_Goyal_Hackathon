{
 "cells": [
  {
   "cell_type": "code",
   "execution_count": 204,
   "id": "0566b6f4-a182-469a-bf04-c8b12d98dd05",
   "metadata": {},
   "outputs": [],
   "source": [
    "import pandas as pd\n",
    "from sklearn.model_selection import train_test_split\n",
    "from sklearn.linear_model import LogisticRegression"
   ]
  },
  {
   "cell_type": "markdown",
   "id": "edbe9cf6-09cd-4217-a303-f2b80bbf1c29",
   "metadata": {
    "jp-MarkdownHeadingCollapsed": true
   },
   "source": [
    "# Reading datasets"
   ]
  },
  {
   "cell_type": "code",
   "execution_count": 206,
   "id": "deb024f7-f422-4d2d-99e9-646c08d77e84",
   "metadata": {},
   "outputs": [
    {
     "data": {
      "text/html": [
       "<div>\n",
       "<style scoped>\n",
       "    .dataframe tbody tr th:only-of-type {\n",
       "        vertical-align: middle;\n",
       "    }\n",
       "\n",
       "    .dataframe tbody tr th {\n",
       "        vertical-align: top;\n",
       "    }\n",
       "\n",
       "    .dataframe thead th {\n",
       "        text-align: right;\n",
       "    }\n",
       "</style>\n",
       "<table border=\"1\" class=\"dataframe\">\n",
       "  <thead>\n",
       "    <tr style=\"text-align: right;\">\n",
       "      <th></th>\n",
       "      <th>respondent_id</th>\n",
       "      <th>xyz_concern</th>\n",
       "      <th>xyz_knowledge</th>\n",
       "      <th>behavioral_antiviral_meds</th>\n",
       "      <th>behavioral_avoidance</th>\n",
       "      <th>behavioral_face_mask</th>\n",
       "      <th>behavioral_wash_hands</th>\n",
       "      <th>behavioral_large_gatherings</th>\n",
       "      <th>behavioral_outside_home</th>\n",
       "      <th>behavioral_touch_face</th>\n",
       "      <th>...</th>\n",
       "      <th>income_poverty</th>\n",
       "      <th>marital_status</th>\n",
       "      <th>rent_or_own</th>\n",
       "      <th>employment_status</th>\n",
       "      <th>hhs_geo_region</th>\n",
       "      <th>census_msa</th>\n",
       "      <th>household_adults</th>\n",
       "      <th>household_children</th>\n",
       "      <th>employment_industry</th>\n",
       "      <th>employment_occupation</th>\n",
       "    </tr>\n",
       "  </thead>\n",
       "  <tbody>\n",
       "    <tr>\n",
       "      <th>0</th>\n",
       "      <td>0</td>\n",
       "      <td>1.0</td>\n",
       "      <td>0.0</td>\n",
       "      <td>0.0</td>\n",
       "      <td>0.0</td>\n",
       "      <td>0.0</td>\n",
       "      <td>0.0</td>\n",
       "      <td>0.0</td>\n",
       "      <td>1.0</td>\n",
       "      <td>1.0</td>\n",
       "      <td>...</td>\n",
       "      <td>Below Poverty</td>\n",
       "      <td>Not Married</td>\n",
       "      <td>Own</td>\n",
       "      <td>Not in Labor Force</td>\n",
       "      <td>oxchjgsf</td>\n",
       "      <td>Non-MSA</td>\n",
       "      <td>0.0</td>\n",
       "      <td>0.0</td>\n",
       "      <td>NaN</td>\n",
       "      <td>NaN</td>\n",
       "    </tr>\n",
       "    <tr>\n",
       "      <th>1</th>\n",
       "      <td>1</td>\n",
       "      <td>3.0</td>\n",
       "      <td>2.0</td>\n",
       "      <td>0.0</td>\n",
       "      <td>1.0</td>\n",
       "      <td>0.0</td>\n",
       "      <td>1.0</td>\n",
       "      <td>0.0</td>\n",
       "      <td>1.0</td>\n",
       "      <td>1.0</td>\n",
       "      <td>...</td>\n",
       "      <td>Below Poverty</td>\n",
       "      <td>Not Married</td>\n",
       "      <td>Rent</td>\n",
       "      <td>Employed</td>\n",
       "      <td>bhuqouqj</td>\n",
       "      <td>MSA, Not Principle  City</td>\n",
       "      <td>0.0</td>\n",
       "      <td>0.0</td>\n",
       "      <td>pxcmvdjn</td>\n",
       "      <td>xgwztkwe</td>\n",
       "    </tr>\n",
       "    <tr>\n",
       "      <th>2</th>\n",
       "      <td>2</td>\n",
       "      <td>1.0</td>\n",
       "      <td>1.0</td>\n",
       "      <td>0.0</td>\n",
       "      <td>1.0</td>\n",
       "      <td>0.0</td>\n",
       "      <td>0.0</td>\n",
       "      <td>0.0</td>\n",
       "      <td>0.0</td>\n",
       "      <td>0.0</td>\n",
       "      <td>...</td>\n",
       "      <td>&lt;= $75,000, Above Poverty</td>\n",
       "      <td>Not Married</td>\n",
       "      <td>Own</td>\n",
       "      <td>Employed</td>\n",
       "      <td>qufhixun</td>\n",
       "      <td>MSA, Not Principle  City</td>\n",
       "      <td>2.0</td>\n",
       "      <td>0.0</td>\n",
       "      <td>rucpziij</td>\n",
       "      <td>xtkaffoo</td>\n",
       "    </tr>\n",
       "    <tr>\n",
       "      <th>3</th>\n",
       "      <td>3</td>\n",
       "      <td>1.0</td>\n",
       "      <td>1.0</td>\n",
       "      <td>0.0</td>\n",
       "      <td>1.0</td>\n",
       "      <td>0.0</td>\n",
       "      <td>1.0</td>\n",
       "      <td>1.0</td>\n",
       "      <td>0.0</td>\n",
       "      <td>0.0</td>\n",
       "      <td>...</td>\n",
       "      <td>Below Poverty</td>\n",
       "      <td>Not Married</td>\n",
       "      <td>Rent</td>\n",
       "      <td>Not in Labor Force</td>\n",
       "      <td>lrircsnp</td>\n",
       "      <td>MSA, Principle City</td>\n",
       "      <td>0.0</td>\n",
       "      <td>0.0</td>\n",
       "      <td>NaN</td>\n",
       "      <td>NaN</td>\n",
       "    </tr>\n",
       "    <tr>\n",
       "      <th>4</th>\n",
       "      <td>4</td>\n",
       "      <td>2.0</td>\n",
       "      <td>1.0</td>\n",
       "      <td>0.0</td>\n",
       "      <td>1.0</td>\n",
       "      <td>0.0</td>\n",
       "      <td>1.0</td>\n",
       "      <td>1.0</td>\n",
       "      <td>0.0</td>\n",
       "      <td>1.0</td>\n",
       "      <td>...</td>\n",
       "      <td>&lt;= $75,000, Above Poverty</td>\n",
       "      <td>Married</td>\n",
       "      <td>Own</td>\n",
       "      <td>Employed</td>\n",
       "      <td>qufhixun</td>\n",
       "      <td>MSA, Not Principle  City</td>\n",
       "      <td>1.0</td>\n",
       "      <td>0.0</td>\n",
       "      <td>wxleyezf</td>\n",
       "      <td>emcorrxb</td>\n",
       "    </tr>\n",
       "  </tbody>\n",
       "</table>\n",
       "<p>5 rows × 36 columns</p>\n",
       "</div>"
      ],
      "text/plain": [
       "   respondent_id  xyz_concern  xyz_knowledge  behavioral_antiviral_meds  \\\n",
       "0              0          1.0            0.0                        0.0   \n",
       "1              1          3.0            2.0                        0.0   \n",
       "2              2          1.0            1.0                        0.0   \n",
       "3              3          1.0            1.0                        0.0   \n",
       "4              4          2.0            1.0                        0.0   \n",
       "\n",
       "   behavioral_avoidance  behavioral_face_mask  behavioral_wash_hands  \\\n",
       "0                   0.0                   0.0                    0.0   \n",
       "1                   1.0                   0.0                    1.0   \n",
       "2                   1.0                   0.0                    0.0   \n",
       "3                   1.0                   0.0                    1.0   \n",
       "4                   1.0                   0.0                    1.0   \n",
       "\n",
       "   behavioral_large_gatherings  behavioral_outside_home  \\\n",
       "0                          0.0                      1.0   \n",
       "1                          0.0                      1.0   \n",
       "2                          0.0                      0.0   \n",
       "3                          1.0                      0.0   \n",
       "4                          1.0                      0.0   \n",
       "\n",
       "   behavioral_touch_face  ...             income_poverty  marital_status  \\\n",
       "0                    1.0  ...              Below Poverty     Not Married   \n",
       "1                    1.0  ...              Below Poverty     Not Married   \n",
       "2                    0.0  ...  <= $75,000, Above Poverty     Not Married   \n",
       "3                    0.0  ...              Below Poverty     Not Married   \n",
       "4                    1.0  ...  <= $75,000, Above Poverty         Married   \n",
       "\n",
       "   rent_or_own   employment_status  hhs_geo_region                census_msa  \\\n",
       "0          Own  Not in Labor Force        oxchjgsf                   Non-MSA   \n",
       "1         Rent            Employed        bhuqouqj  MSA, Not Principle  City   \n",
       "2          Own            Employed        qufhixun  MSA, Not Principle  City   \n",
       "3         Rent  Not in Labor Force        lrircsnp       MSA, Principle City   \n",
       "4          Own            Employed        qufhixun  MSA, Not Principle  City   \n",
       "\n",
       "   household_adults  household_children  employment_industry  \\\n",
       "0               0.0                 0.0                  NaN   \n",
       "1               0.0                 0.0             pxcmvdjn   \n",
       "2               2.0                 0.0             rucpziij   \n",
       "3               0.0                 0.0                  NaN   \n",
       "4               1.0                 0.0             wxleyezf   \n",
       "\n",
       "   employment_occupation  \n",
       "0                    NaN  \n",
       "1               xgwztkwe  \n",
       "2               xtkaffoo  \n",
       "3                    NaN  \n",
       "4               emcorrxb  \n",
       "\n",
       "[5 rows x 36 columns]"
      ]
     },
     "execution_count": 206,
     "metadata": {},
     "output_type": "execute_result"
    }
   ],
   "source": [
    "df = pd.read_csv('training_set_features.csv')\n",
    "df.head()"
   ]
  },
  {
   "cell_type": "code",
   "execution_count": 208,
   "id": "06236d64-ab8f-4537-90a1-fde95306f8ef",
   "metadata": {},
   "outputs": [
    {
     "data": {
      "text/html": [
       "<div>\n",
       "<style scoped>\n",
       "    .dataframe tbody tr th:only-of-type {\n",
       "        vertical-align: middle;\n",
       "    }\n",
       "\n",
       "    .dataframe tbody tr th {\n",
       "        vertical-align: top;\n",
       "    }\n",
       "\n",
       "    .dataframe thead th {\n",
       "        text-align: right;\n",
       "    }\n",
       "</style>\n",
       "<table border=\"1\" class=\"dataframe\">\n",
       "  <thead>\n",
       "    <tr style=\"text-align: right;\">\n",
       "      <th></th>\n",
       "      <th>respondent_id</th>\n",
       "      <th>xyz_vaccine</th>\n",
       "      <th>seasonal_vaccine</th>\n",
       "    </tr>\n",
       "  </thead>\n",
       "  <tbody>\n",
       "    <tr>\n",
       "      <th>0</th>\n",
       "      <td>0</td>\n",
       "      <td>0</td>\n",
       "      <td>0</td>\n",
       "    </tr>\n",
       "    <tr>\n",
       "      <th>1</th>\n",
       "      <td>1</td>\n",
       "      <td>0</td>\n",
       "      <td>1</td>\n",
       "    </tr>\n",
       "    <tr>\n",
       "      <th>2</th>\n",
       "      <td>2</td>\n",
       "      <td>0</td>\n",
       "      <td>0</td>\n",
       "    </tr>\n",
       "    <tr>\n",
       "      <th>3</th>\n",
       "      <td>3</td>\n",
       "      <td>0</td>\n",
       "      <td>1</td>\n",
       "    </tr>\n",
       "    <tr>\n",
       "      <th>4</th>\n",
       "      <td>4</td>\n",
       "      <td>0</td>\n",
       "      <td>0</td>\n",
       "    </tr>\n",
       "  </tbody>\n",
       "</table>\n",
       "</div>"
      ],
      "text/plain": [
       "   respondent_id  xyz_vaccine  seasonal_vaccine\n",
       "0              0            0                 0\n",
       "1              1            0                 1\n",
       "2              2            0                 0\n",
       "3              3            0                 1\n",
       "4              4            0                 0"
      ]
     },
     "execution_count": 208,
     "metadata": {},
     "output_type": "execute_result"
    }
   ],
   "source": [
    "y = pd.read_csv('training_set_labels.csv')\n",
    "y.head()"
   ]
  },
  {
   "cell_type": "code",
   "execution_count": 210,
   "id": "6517cd63-967f-4cf9-9e7c-fa10dda6f883",
   "metadata": {},
   "outputs": [
    {
     "data": {
      "text/plain": [
       "respondent_id       0\n",
       "xyz_vaccine         0\n",
       "seasonal_vaccine    0\n",
       "dtype: int64"
      ]
     },
     "execution_count": 210,
     "metadata": {},
     "output_type": "execute_result"
    }
   ],
   "source": [
    "y.isna().sum()"
   ]
  },
  {
   "cell_type": "code",
   "execution_count": 212,
   "id": "a4567cea-beb0-4995-9c2a-3640a1a4eb35",
   "metadata": {},
   "outputs": [
    {
     "data": {
      "text/plain": [
       "respondent_id                      0\n",
       "xyz_concern                       92\n",
       "xyz_knowledge                    116\n",
       "behavioral_antiviral_meds         71\n",
       "behavioral_avoidance             208\n",
       "behavioral_face_mask              19\n",
       "behavioral_wash_hands             42\n",
       "behavioral_large_gatherings       87\n",
       "behavioral_outside_home           82\n",
       "behavioral_touch_face            128\n",
       "doctor_recc_xyz                 2160\n",
       "doctor_recc_seasonal            2160\n",
       "chronic_med_condition            971\n",
       "child_under_6_months             820\n",
       "health_worker                    804\n",
       "health_insurance               12274\n",
       "opinion_xyz_vacc_effective       391\n",
       "opinion_xyz_risk                 388\n",
       "opinion_xyz_sick_from_vacc       395\n",
       "opinion_seas_vacc_effective      462\n",
       "opinion_seas_risk                514\n",
       "opinion_seas_sick_from_vacc      537\n",
       "age_group                          0\n",
       "education                       1407\n",
       "race                               0\n",
       "sex                                0\n",
       "income_poverty                  4423\n",
       "marital_status                  1408\n",
       "rent_or_own                     2042\n",
       "employment_status               1463\n",
       "hhs_geo_region                     0\n",
       "census_msa                         0\n",
       "household_adults                 249\n",
       "household_children               249\n",
       "employment_industry            13330\n",
       "employment_occupation          13470\n",
       "dtype: int64"
      ]
     },
     "execution_count": 212,
     "metadata": {},
     "output_type": "execute_result"
    }
   ],
   "source": [
    "# Check total number of null values in each column\n",
    "df.isna().sum()"
   ]
  },
  {
   "cell_type": "markdown",
   "id": "9f7e4ff8-8137-4a4f-a4e0-8d8bae09b143",
   "metadata": {
    "jp-MarkdownHeadingCollapsed": true
   },
   "source": [
    "# Data Analysis for xyz vaccine"
   ]
  },
  {
   "cell_type": "code",
   "execution_count": 214,
   "id": "d3557331-55c5-400d-82eb-adefc7535c74",
   "metadata": {},
   "outputs": [
    {
     "data": {
      "text/plain": [
       "xyz_concern                       92\n",
       "xyz_knowledge                    116\n",
       "behavioral_avoidance             208\n",
       "behavioral_face_mask              19\n",
       "behavioral_wash_hands             42\n",
       "behavioral_large_gatherings       87\n",
       "behavioral_outside_home           82\n",
       "behavioral_touch_face            128\n",
       "doctor_recc_xyz                 2160\n",
       "chronic_med_condition            971\n",
       "child_under_6_months             820\n",
       "health_worker                    804\n",
       "health_insurance               12274\n",
       "opinion_xyz_vacc_effective       391\n",
       "opinion_xyz_risk                 388\n",
       "opinion_xyz_sick_from_vacc       395\n",
       "age_group                          0\n",
       "income_poverty                  4423\n",
       "hhs_geo_region                     0\n",
       "census_msa                         0\n",
       "household_adults                 249\n",
       "household_children               249\n",
       "dtype: int64"
      ]
     },
     "execution_count": 214,
     "metadata": {},
     "output_type": "execute_result"
    }
   ],
   "source": [
    "# Use relevant columns\n",
    "cols_for_xyz = ['xyz_concern', 'xyz_knowledge', 'behavioral_avoidance', 'behavioral_face_mask', 'behavioral_wash_hands', 'behavioral_large_gatherings',\n",
    "               'behavioral_outside_home', 'behavioral_touch_face', 'doctor_recc_xyz', 'chronic_med_condition', 'child_under_6_months', \n",
    "               'health_worker', 'health_insurance', 'opinion_xyz_vacc_effective', 'opinion_xyz_risk', 'opinion_xyz_sick_from_vacc', \n",
    "               'age_group', 'income_poverty', 'hhs_geo_region', 'census_msa', 'household_adults', 'household_children']\n",
    "x_xyz = df[cols_for_xyz]\n",
    "x_xyz.isna().sum()"
   ]
  },
  {
   "cell_type": "code",
   "execution_count": 216,
   "id": "a915434b-a4e5-45a9-a1dd-6e9d42e92086",
   "metadata": {},
   "outputs": [
    {
     "data": {
      "text/plain": [
       "(26707, 22)"
      ]
     },
     "execution_count": 216,
     "metadata": {},
     "output_type": "execute_result"
    }
   ],
   "source": [
    "x_xyz.shape"
   ]
  },
  {
   "cell_type": "code",
   "execution_count": 218,
   "id": "ca704df4-a6c7-4c18-8fdf-adefdbd279be",
   "metadata": {},
   "outputs": [
    {
     "name": "stderr",
     "output_type": "stream",
     "text": [
      "C:\\Users\\ASUS\\AppData\\Local\\Temp\\ipykernel_6164\\2340636038.py:5: SettingWithCopyWarning: \n",
      "A value is trying to be set on a copy of a slice from a DataFrame.\n",
      "Try using .loc[row_indexer,col_indexer] = value instead\n",
      "\n",
      "See the caveats in the documentation: https://pandas.pydata.org/pandas-docs/stable/user_guide/indexing.html#returning-a-view-versus-a-copy\n",
      "  x_xyz[cols_to_use] = x_xyz[cols_to_use].fillna(0)\n"
     ]
    }
   ],
   "source": [
    "# Replace null values of certain columns with 0\n",
    "cols_to_use = ['behavioral_face_mask', 'behavioral_wash_hands', 'behavioral_large_gatherings', 'behavioral_outside_home', 'behavioral_touch_face', \n",
    "               'behavioral_avoidance', 'chronic_med_condition', 'child_under_6_months', 'health_worker', 'doctor_recc_xyz', \n",
    "                'household_adults', 'household_children', 'xyz_concern', 'xyz_knowledge']\n",
    "x_xyz[cols_to_use] = x_xyz[cols_to_use].fillna(0)"
   ]
  },
  {
   "cell_type": "code",
   "execution_count": 220,
   "id": "f44c5d19-6900-444b-b5fe-42595fc3fa7b",
   "metadata": {},
   "outputs": [
    {
     "name": "stderr",
     "output_type": "stream",
     "text": [
      "C:\\Users\\ASUS\\AppData\\Local\\Temp\\ipykernel_6164\\3422013022.py:2: SettingWithCopyWarning: \n",
      "A value is trying to be set on a copy of a slice from a DataFrame\n",
      "\n",
      "See the caveats in the documentation: https://pandas.pydata.org/pandas-docs/stable/user_guide/indexing.html#returning-a-view-versus-a-copy\n",
      "  x_xyz.drop(['health_insurance', 'income_poverty'], axis = 1, inplace = True)\n"
     ]
    }
   ],
   "source": [
    "# Drop certain columns because most of the values are null\n",
    "x_xyz.drop(['health_insurance', 'income_poverty'], axis = 1, inplace = True)"
   ]
  },
  {
   "cell_type": "code",
   "execution_count": 222,
   "id": "ee5cdab3-a776-46ed-b671-20006c7e71e0",
   "metadata": {},
   "outputs": [
    {
     "data": {
      "text/plain": [
       "xyz_concern                      0\n",
       "xyz_knowledge                    0\n",
       "behavioral_avoidance             0\n",
       "behavioral_face_mask             0\n",
       "behavioral_wash_hands            0\n",
       "behavioral_large_gatherings      0\n",
       "behavioral_outside_home          0\n",
       "behavioral_touch_face            0\n",
       "doctor_recc_xyz                  0\n",
       "chronic_med_condition            0\n",
       "child_under_6_months             0\n",
       "health_worker                    0\n",
       "opinion_xyz_vacc_effective     391\n",
       "opinion_xyz_risk               388\n",
       "opinion_xyz_sick_from_vacc     395\n",
       "age_group                        0\n",
       "hhs_geo_region                   0\n",
       "census_msa                       0\n",
       "household_adults                 0\n",
       "household_children               0\n",
       "dtype: int64"
      ]
     },
     "execution_count": 222,
     "metadata": {},
     "output_type": "execute_result"
    }
   ],
   "source": [
    "x_xyz.isna().sum()"
   ]
  },
  {
   "cell_type": "code",
   "execution_count": 224,
   "id": "027ccf25-d2af-4966-a09b-68e5ba8f9986",
   "metadata": {},
   "outputs": [
    {
     "data": {
      "text/plain": [
       "xyz_concern                    float64\n",
       "xyz_knowledge                  float64\n",
       "behavioral_avoidance           float64\n",
       "behavioral_face_mask           float64\n",
       "behavioral_wash_hands          float64\n",
       "behavioral_large_gatherings    float64\n",
       "behavioral_outside_home        float64\n",
       "behavioral_touch_face          float64\n",
       "doctor_recc_xyz                float64\n",
       "chronic_med_condition          float64\n",
       "child_under_6_months           float64\n",
       "health_worker                  float64\n",
       "opinion_xyz_vacc_effective     float64\n",
       "opinion_xyz_risk               float64\n",
       "opinion_xyz_sick_from_vacc     float64\n",
       "age_group                       object\n",
       "hhs_geo_region                  object\n",
       "census_msa                      object\n",
       "household_adults               float64\n",
       "household_children             float64\n",
       "dtype: object"
      ]
     },
     "execution_count": 224,
     "metadata": {},
     "output_type": "execute_result"
    }
   ],
   "source": [
    "x_xyz.dtypes"
   ]
  },
  {
   "cell_type": "code",
   "execution_count": 226,
   "id": "f41995ec-aea4-4a6d-90bc-591abcdd85de",
   "metadata": {},
   "outputs": [
    {
     "data": {
      "text/plain": [
       "xyz_concern                         0\n",
       "xyz_knowledge                       0\n",
       "behavioral_avoidance                0\n",
       "behavioral_face_mask                0\n",
       "behavioral_wash_hands               0\n",
       "behavioral_large_gatherings         0\n",
       "behavioral_outside_home             0\n",
       "behavioral_touch_face               0\n",
       "doctor_recc_xyz                     0\n",
       "chronic_med_condition               0\n",
       "child_under_6_months                0\n",
       "health_worker                       0\n",
       "opinion_xyz_vacc_effective        391\n",
       "opinion_xyz_risk                  388\n",
       "opinion_xyz_sick_from_vacc        395\n",
       "household_adults                    0\n",
       "household_children                  0\n",
       "age_group_35 - 44 Years             0\n",
       "age_group_45 - 54 Years             0\n",
       "age_group_55 - 64 Years             0\n",
       "age_group_65+ Years                 0\n",
       "hhs_geo_region_bhuqouqj             0\n",
       "hhs_geo_region_dqpwygqj             0\n",
       "hhs_geo_region_fpwskwrf             0\n",
       "hhs_geo_region_kbazzjca             0\n",
       "hhs_geo_region_lrircsnp             0\n",
       "hhs_geo_region_lzgpxyit             0\n",
       "hhs_geo_region_mlyzmhmf             0\n",
       "hhs_geo_region_oxchjgsf             0\n",
       "hhs_geo_region_qufhixun             0\n",
       "census_msa_MSA, Principle City      0\n",
       "census_msa_Non-MSA                  0\n",
       "dtype: int64"
      ]
     },
     "execution_count": 226,
     "metadata": {},
     "output_type": "execute_result"
    }
   ],
   "source": [
    "# Dealing with categorical variables using ONE HOT CODING\n",
    "x_xyz = pd.get_dummies(x_xyz, drop_first = True)\n",
    "x_xyz.isna().sum()"
   ]
  },
  {
   "cell_type": "code",
   "execution_count": 228,
   "id": "022fd3b1-b916-44bc-8d95-1f82d81cc978",
   "metadata": {},
   "outputs": [],
   "source": [
    "# Replacing null values of certain columns with their mean values\n",
    "x_xyz['opinion_xyz_vacc_effective'] = x_xyz.opinion_xyz_vacc_effective.fillna(x_xyz.opinion_xyz_vacc_effective.mean())\n",
    "x_xyz['opinion_xyz_risk'] = x_xyz.opinion_xyz_risk.fillna(x_xyz.opinion_xyz_risk.mean())\n",
    "x_xyz['opinion_xyz_sick_from_vacc'] = x_xyz.opinion_xyz_sick_from_vacc.fillna(x_xyz.opinion_xyz_sick_from_vacc.mean())"
   ]
  },
  {
   "cell_type": "code",
   "execution_count": 230,
   "id": "96d72198-7e34-4523-b4e3-601d51646b06",
   "metadata": {},
   "outputs": [
    {
     "data": {
      "text/plain": [
       "xyz_concern                       0\n",
       "xyz_knowledge                     0\n",
       "behavioral_avoidance              0\n",
       "behavioral_face_mask              0\n",
       "behavioral_wash_hands             0\n",
       "behavioral_large_gatherings       0\n",
       "behavioral_outside_home           0\n",
       "behavioral_touch_face             0\n",
       "doctor_recc_xyz                   0\n",
       "chronic_med_condition             0\n",
       "child_under_6_months              0\n",
       "health_worker                     0\n",
       "opinion_xyz_vacc_effective        0\n",
       "opinion_xyz_risk                  0\n",
       "opinion_xyz_sick_from_vacc        0\n",
       "household_adults                  0\n",
       "household_children                0\n",
       "age_group_35 - 44 Years           0\n",
       "age_group_45 - 54 Years           0\n",
       "age_group_55 - 64 Years           0\n",
       "age_group_65+ Years               0\n",
       "hhs_geo_region_bhuqouqj           0\n",
       "hhs_geo_region_dqpwygqj           0\n",
       "hhs_geo_region_fpwskwrf           0\n",
       "hhs_geo_region_kbazzjca           0\n",
       "hhs_geo_region_lrircsnp           0\n",
       "hhs_geo_region_lzgpxyit           0\n",
       "hhs_geo_region_mlyzmhmf           0\n",
       "hhs_geo_region_oxchjgsf           0\n",
       "hhs_geo_region_qufhixun           0\n",
       "census_msa_MSA, Principle City    0\n",
       "census_msa_Non-MSA                0\n",
       "dtype: int64"
      ]
     },
     "execution_count": 230,
     "metadata": {},
     "output_type": "execute_result"
    }
   ],
   "source": [
    "x_xyz.isna().sum()"
   ]
  },
  {
   "cell_type": "markdown",
   "id": "cd11fce2-1bc7-4017-b322-e9b0040f7992",
   "metadata": {
    "jp-MarkdownHeadingCollapsed": true
   },
   "source": [
    "# Logistic Regression for xyz vaccine"
   ]
  },
  {
   "cell_type": "code",
   "execution_count": 232,
   "id": "2da1f077-4aa7-428b-959d-49699b5bde59",
   "metadata": {},
   "outputs": [],
   "source": [
    "train_x_1, test_x_1, train_y_1, test_y_1 = train_test_split(x_xyz, y['xyz_vaccine'], test_size = 0.33, random_state = 42)"
   ]
  },
  {
   "cell_type": "code",
   "execution_count": 234,
   "id": "6513f0f9-9313-48be-a701-ad767c51fceb",
   "metadata": {},
   "outputs": [
    {
     "data": {
      "text/html": [
       "<style>#sk-container-id-3 {color: black;background-color: white;}#sk-container-id-3 pre{padding: 0;}#sk-container-id-3 div.sk-toggleable {background-color: white;}#sk-container-id-3 label.sk-toggleable__label {cursor: pointer;display: block;width: 100%;margin-bottom: 0;padding: 0.3em;box-sizing: border-box;text-align: center;}#sk-container-id-3 label.sk-toggleable__label-arrow:before {content: \"▸\";float: left;margin-right: 0.25em;color: #696969;}#sk-container-id-3 label.sk-toggleable__label-arrow:hover:before {color: black;}#sk-container-id-3 div.sk-estimator:hover label.sk-toggleable__label-arrow:before {color: black;}#sk-container-id-3 div.sk-toggleable__content {max-height: 0;max-width: 0;overflow: hidden;text-align: left;background-color: #f0f8ff;}#sk-container-id-3 div.sk-toggleable__content pre {margin: 0.2em;color: black;border-radius: 0.25em;background-color: #f0f8ff;}#sk-container-id-3 input.sk-toggleable__control:checked~div.sk-toggleable__content {max-height: 200px;max-width: 100%;overflow: auto;}#sk-container-id-3 input.sk-toggleable__control:checked~label.sk-toggleable__label-arrow:before {content: \"▾\";}#sk-container-id-3 div.sk-estimator input.sk-toggleable__control:checked~label.sk-toggleable__label {background-color: #d4ebff;}#sk-container-id-3 div.sk-label input.sk-toggleable__control:checked~label.sk-toggleable__label {background-color: #d4ebff;}#sk-container-id-3 input.sk-hidden--visually {border: 0;clip: rect(1px 1px 1px 1px);clip: rect(1px, 1px, 1px, 1px);height: 1px;margin: -1px;overflow: hidden;padding: 0;position: absolute;width: 1px;}#sk-container-id-3 div.sk-estimator {font-family: monospace;background-color: #f0f8ff;border: 1px dotted black;border-radius: 0.25em;box-sizing: border-box;margin-bottom: 0.5em;}#sk-container-id-3 div.sk-estimator:hover {background-color: #d4ebff;}#sk-container-id-3 div.sk-parallel-item::after {content: \"\";width: 100%;border-bottom: 1px solid gray;flex-grow: 1;}#sk-container-id-3 div.sk-label:hover label.sk-toggleable__label {background-color: #d4ebff;}#sk-container-id-3 div.sk-serial::before {content: \"\";position: absolute;border-left: 1px solid gray;box-sizing: border-box;top: 0;bottom: 0;left: 50%;z-index: 0;}#sk-container-id-3 div.sk-serial {display: flex;flex-direction: column;align-items: center;background-color: white;padding-right: 0.2em;padding-left: 0.2em;position: relative;}#sk-container-id-3 div.sk-item {position: relative;z-index: 1;}#sk-container-id-3 div.sk-parallel {display: flex;align-items: stretch;justify-content: center;background-color: white;position: relative;}#sk-container-id-3 div.sk-item::before, #sk-container-id-3 div.sk-parallel-item::before {content: \"\";position: absolute;border-left: 1px solid gray;box-sizing: border-box;top: 0;bottom: 0;left: 50%;z-index: -1;}#sk-container-id-3 div.sk-parallel-item {display: flex;flex-direction: column;z-index: 1;position: relative;background-color: white;}#sk-container-id-3 div.sk-parallel-item:first-child::after {align-self: flex-end;width: 50%;}#sk-container-id-3 div.sk-parallel-item:last-child::after {align-self: flex-start;width: 50%;}#sk-container-id-3 div.sk-parallel-item:only-child::after {width: 0;}#sk-container-id-3 div.sk-dashed-wrapped {border: 1px dashed gray;margin: 0 0.4em 0.5em 0.4em;box-sizing: border-box;padding-bottom: 0.4em;background-color: white;}#sk-container-id-3 div.sk-label label {font-family: monospace;font-weight: bold;display: inline-block;line-height: 1.2em;}#sk-container-id-3 div.sk-label-container {text-align: center;}#sk-container-id-3 div.sk-container {/* jupyter's `normalize.less` sets `[hidden] { display: none; }` but bootstrap.min.css set `[hidden] { display: none !important; }` so we also need the `!important` here to be able to override the default hidden behavior on the sphinx rendered scikit-learn.org. See: https://github.com/scikit-learn/scikit-learn/issues/21755 */display: inline-block !important;position: relative;}#sk-container-id-3 div.sk-text-repr-fallback {display: none;}</style><div id=\"sk-container-id-3\" class=\"sk-top-container\"><div class=\"sk-text-repr-fallback\"><pre>LogisticRegression()</pre><b>In a Jupyter environment, please rerun this cell to show the HTML representation or trust the notebook. <br />On GitHub, the HTML representation is unable to render, please try loading this page with nbviewer.org.</b></div><div class=\"sk-container\" hidden><div class=\"sk-item\"><div class=\"sk-estimator sk-toggleable\"><input class=\"sk-toggleable__control sk-hidden--visually\" id=\"sk-estimator-id-3\" type=\"checkbox\" checked><label for=\"sk-estimator-id-3\" class=\"sk-toggleable__label sk-toggleable__label-arrow\">LogisticRegression</label><div class=\"sk-toggleable__content\"><pre>LogisticRegression()</pre></div></div></div></div></div>"
      ],
      "text/plain": [
       "LogisticRegression()"
      ]
     },
     "execution_count": 234,
     "metadata": {},
     "output_type": "execute_result"
    }
   ],
   "source": [
    "logicreg = LogisticRegression()\n",
    "logicreg.fit(train_x_1, train_y_1)"
   ]
  },
  {
   "cell_type": "code",
   "execution_count": 236,
   "id": "8a18c7a9-5acf-4259-9d7d-434a13355ede",
   "metadata": {},
   "outputs": [
    {
     "data": {
      "text/plain": [
       "0.8343544361243477"
      ]
     },
     "execution_count": 236,
     "metadata": {},
     "output_type": "execute_result"
    }
   ],
   "source": [
    "logicreg.score(test_x_1,test_y_1)"
   ]
  },
  {
   "cell_type": "code",
   "execution_count": 238,
   "id": "74ca903a-825a-4662-b48c-0a2042bd0e43",
   "metadata": {},
   "outputs": [],
   "source": [
    "xyz_vaccine = logicreg.predict_proba(x_xyz)[:, 1] "
   ]
  },
  {
   "cell_type": "markdown",
   "id": "2b40632d-7338-4174-801f-7b99279c1b16",
   "metadata": {
    "jp-MarkdownHeadingCollapsed": true
   },
   "source": [
    "# Data Analysis for seasonal vaccine"
   ]
  },
  {
   "cell_type": "code",
   "execution_count": 167,
   "id": "a33b5018-6ace-47a0-804a-fb5ecbe9eb99",
   "metadata": {},
   "outputs": [
    {
     "data": {
      "text/plain": [
       "behavioral_avoidance           208\n",
       "behavioral_face_mask            19\n",
       "behavioral_wash_hands           42\n",
       "behavioral_large_gatherings     87\n",
       "behavioral_outside_home         82\n",
       "behavioral_touch_face          128\n",
       "chronic_med_condition          971\n",
       "child_under_6_months           820\n",
       "health_worker                  804\n",
       "opinion_seas_vacc_effective    462\n",
       "opinion_seas_risk              514\n",
       "opinion_seas_sick_from_vacc    537\n",
       "age_group                        0\n",
       "hhs_geo_region                   0\n",
       "census_msa                       0\n",
       "household_adults               249\n",
       "household_children             249\n",
       "dtype: int64"
      ]
     },
     "execution_count": 167,
     "metadata": {},
     "output_type": "execute_result"
    }
   ],
   "source": [
    "cols_for_seas = ['behavioral_avoidance', 'behavioral_face_mask', 'behavioral_wash_hands', 'behavioral_large_gatherings',\n",
    "               'behavioral_outside_home', 'behavioral_touch_face', 'chronic_med_condition', 'child_under_6_months', \n",
    "               'health_worker', 'opinion_seas_vacc_effective', 'opinion_seas_risk', 'opinion_seas_sick_from_vacc', \n",
    "               'age_group', 'hhs_geo_region', 'census_msa', 'household_adults', 'household_children']\n",
    "x_seas = df[cols_for_seas]\n",
    "x_seas.isna().sum()"
   ]
  },
  {
   "cell_type": "code",
   "execution_count": 169,
   "id": "617906dd-40d1-49a8-a85c-b8e3101e32f6",
   "metadata": {},
   "outputs": [
    {
     "name": "stderr",
     "output_type": "stream",
     "text": [
      "C:\\Users\\ASUS\\AppData\\Local\\Temp\\ipykernel_6164\\3391796380.py:4: SettingWithCopyWarning: \n",
      "A value is trying to be set on a copy of a slice from a DataFrame.\n",
      "Try using .loc[row_indexer,col_indexer] = value instead\n",
      "\n",
      "See the caveats in the documentation: https://pandas.pydata.org/pandas-docs/stable/user_guide/indexing.html#returning-a-view-versus-a-copy\n",
      "  x_seas[cols_to_use_2] = x_seas[cols_to_use_2].fillna(0)\n"
     ]
    }
   ],
   "source": [
    "cols_to_use_2 = ['behavioral_face_mask', 'behavioral_wash_hands', 'behavioral_large_gatherings', 'behavioral_outside_home', 'behavioral_touch_face', \n",
    "               'behavioral_avoidance', 'chronic_med_condition', 'child_under_6_months', 'health_worker', \n",
    "                'household_adults', 'household_children']\n",
    "x_seas[cols_to_use_2] = x_seas[cols_to_use_2].fillna(0)"
   ]
  },
  {
   "cell_type": "code",
   "execution_count": 171,
   "id": "7b5b835b-1c3c-4b14-a5c2-8c13fb609ea1",
   "metadata": {},
   "outputs": [],
   "source": [
    "x_seas = pd.get_dummies(x_seas, drop_first = True)"
   ]
  },
  {
   "cell_type": "code",
   "execution_count": 173,
   "id": "16cf973b-88bb-43df-8a63-0e9f1180f073",
   "metadata": {},
   "outputs": [
    {
     "data": {
      "text/plain": [
       "behavioral_avoidance                0\n",
       "behavioral_face_mask                0\n",
       "behavioral_wash_hands               0\n",
       "behavioral_large_gatherings         0\n",
       "behavioral_outside_home             0\n",
       "behavioral_touch_face               0\n",
       "chronic_med_condition               0\n",
       "child_under_6_months                0\n",
       "health_worker                       0\n",
       "opinion_seas_vacc_effective       462\n",
       "opinion_seas_risk                 514\n",
       "opinion_seas_sick_from_vacc       537\n",
       "household_adults                    0\n",
       "household_children                  0\n",
       "age_group_35 - 44 Years             0\n",
       "age_group_45 - 54 Years             0\n",
       "age_group_55 - 64 Years             0\n",
       "age_group_65+ Years                 0\n",
       "hhs_geo_region_bhuqouqj             0\n",
       "hhs_geo_region_dqpwygqj             0\n",
       "hhs_geo_region_fpwskwrf             0\n",
       "hhs_geo_region_kbazzjca             0\n",
       "hhs_geo_region_lrircsnp             0\n",
       "hhs_geo_region_lzgpxyit             0\n",
       "hhs_geo_region_mlyzmhmf             0\n",
       "hhs_geo_region_oxchjgsf             0\n",
       "hhs_geo_region_qufhixun             0\n",
       "census_msa_MSA, Principle City      0\n",
       "census_msa_Non-MSA                  0\n",
       "dtype: int64"
      ]
     },
     "execution_count": 173,
     "metadata": {},
     "output_type": "execute_result"
    }
   ],
   "source": [
    "x_seas.isna().sum()"
   ]
  },
  {
   "cell_type": "code",
   "execution_count": 175,
   "id": "2d12c847-a8f5-46ac-914a-66bedd08ff45",
   "metadata": {},
   "outputs": [],
   "source": [
    "x_seas['opinion_seas_vacc_effective'] = x_seas.opinion_seas_vacc_effective.fillna(x_seas.opinion_seas_vacc_effective.mean())\n",
    "x_seas['opinion_seas_risk'] = x_seas.opinion_seas_risk.fillna(x_seas.opinion_seas_risk.mean())\n",
    "x_seas['opinion_seas_sick_from_vacc'] = x_seas.opinion_seas_sick_from_vacc.fillna(x_seas.opinion_seas_sick_from_vacc.mean())"
   ]
  },
  {
   "cell_type": "code",
   "execution_count": 177,
   "id": "8f386e0f-1cc3-4895-b400-549b1d273b29",
   "metadata": {},
   "outputs": [
    {
     "data": {
      "text/plain": [
       "behavioral_avoidance              0\n",
       "behavioral_face_mask              0\n",
       "behavioral_wash_hands             0\n",
       "behavioral_large_gatherings       0\n",
       "behavioral_outside_home           0\n",
       "behavioral_touch_face             0\n",
       "chronic_med_condition             0\n",
       "child_under_6_months              0\n",
       "health_worker                     0\n",
       "opinion_seas_vacc_effective       0\n",
       "opinion_seas_risk                 0\n",
       "opinion_seas_sick_from_vacc       0\n",
       "household_adults                  0\n",
       "household_children                0\n",
       "age_group_35 - 44 Years           0\n",
       "age_group_45 - 54 Years           0\n",
       "age_group_55 - 64 Years           0\n",
       "age_group_65+ Years               0\n",
       "hhs_geo_region_bhuqouqj           0\n",
       "hhs_geo_region_dqpwygqj           0\n",
       "hhs_geo_region_fpwskwrf           0\n",
       "hhs_geo_region_kbazzjca           0\n",
       "hhs_geo_region_lrircsnp           0\n",
       "hhs_geo_region_lzgpxyit           0\n",
       "hhs_geo_region_mlyzmhmf           0\n",
       "hhs_geo_region_oxchjgsf           0\n",
       "hhs_geo_region_qufhixun           0\n",
       "census_msa_MSA, Principle City    0\n",
       "census_msa_Non-MSA                0\n",
       "dtype: int64"
      ]
     },
     "execution_count": 177,
     "metadata": {},
     "output_type": "execute_result"
    }
   ],
   "source": [
    "x_seas.isna().sum()"
   ]
  },
  {
   "cell_type": "markdown",
   "id": "2702d9a9-574d-412d-a029-3581f97dbe25",
   "metadata": {
    "jp-MarkdownHeadingCollapsed": true
   },
   "source": [
    "# Logistic Regression for seasonal vaccine"
   ]
  },
  {
   "cell_type": "code",
   "execution_count": 180,
   "id": "e4d4fc3d-f741-4bb2-9bd9-d31e0e9b8d5a",
   "metadata": {},
   "outputs": [],
   "source": [
    "train_x_2, test_x_2, train_y_2, test_y_2 = train_test_split(x_seas, y['seasonal_vaccine'], test_size = 0.33, random_state = 42)"
   ]
  },
  {
   "cell_type": "code",
   "execution_count": 182,
   "id": "513104c4-bcff-44f8-8374-c1904d74cf51",
   "metadata": {},
   "outputs": [
    {
     "data": {
      "text/html": [
       "<style>#sk-container-id-2 {color: black;background-color: white;}#sk-container-id-2 pre{padding: 0;}#sk-container-id-2 div.sk-toggleable {background-color: white;}#sk-container-id-2 label.sk-toggleable__label {cursor: pointer;display: block;width: 100%;margin-bottom: 0;padding: 0.3em;box-sizing: border-box;text-align: center;}#sk-container-id-2 label.sk-toggleable__label-arrow:before {content: \"▸\";float: left;margin-right: 0.25em;color: #696969;}#sk-container-id-2 label.sk-toggleable__label-arrow:hover:before {color: black;}#sk-container-id-2 div.sk-estimator:hover label.sk-toggleable__label-arrow:before {color: black;}#sk-container-id-2 div.sk-toggleable__content {max-height: 0;max-width: 0;overflow: hidden;text-align: left;background-color: #f0f8ff;}#sk-container-id-2 div.sk-toggleable__content pre {margin: 0.2em;color: black;border-radius: 0.25em;background-color: #f0f8ff;}#sk-container-id-2 input.sk-toggleable__control:checked~div.sk-toggleable__content {max-height: 200px;max-width: 100%;overflow: auto;}#sk-container-id-2 input.sk-toggleable__control:checked~label.sk-toggleable__label-arrow:before {content: \"▾\";}#sk-container-id-2 div.sk-estimator input.sk-toggleable__control:checked~label.sk-toggleable__label {background-color: #d4ebff;}#sk-container-id-2 div.sk-label input.sk-toggleable__control:checked~label.sk-toggleable__label {background-color: #d4ebff;}#sk-container-id-2 input.sk-hidden--visually {border: 0;clip: rect(1px 1px 1px 1px);clip: rect(1px, 1px, 1px, 1px);height: 1px;margin: -1px;overflow: hidden;padding: 0;position: absolute;width: 1px;}#sk-container-id-2 div.sk-estimator {font-family: monospace;background-color: #f0f8ff;border: 1px dotted black;border-radius: 0.25em;box-sizing: border-box;margin-bottom: 0.5em;}#sk-container-id-2 div.sk-estimator:hover {background-color: #d4ebff;}#sk-container-id-2 div.sk-parallel-item::after {content: \"\";width: 100%;border-bottom: 1px solid gray;flex-grow: 1;}#sk-container-id-2 div.sk-label:hover label.sk-toggleable__label {background-color: #d4ebff;}#sk-container-id-2 div.sk-serial::before {content: \"\";position: absolute;border-left: 1px solid gray;box-sizing: border-box;top: 0;bottom: 0;left: 50%;z-index: 0;}#sk-container-id-2 div.sk-serial {display: flex;flex-direction: column;align-items: center;background-color: white;padding-right: 0.2em;padding-left: 0.2em;position: relative;}#sk-container-id-2 div.sk-item {position: relative;z-index: 1;}#sk-container-id-2 div.sk-parallel {display: flex;align-items: stretch;justify-content: center;background-color: white;position: relative;}#sk-container-id-2 div.sk-item::before, #sk-container-id-2 div.sk-parallel-item::before {content: \"\";position: absolute;border-left: 1px solid gray;box-sizing: border-box;top: 0;bottom: 0;left: 50%;z-index: -1;}#sk-container-id-2 div.sk-parallel-item {display: flex;flex-direction: column;z-index: 1;position: relative;background-color: white;}#sk-container-id-2 div.sk-parallel-item:first-child::after {align-self: flex-end;width: 50%;}#sk-container-id-2 div.sk-parallel-item:last-child::after {align-self: flex-start;width: 50%;}#sk-container-id-2 div.sk-parallel-item:only-child::after {width: 0;}#sk-container-id-2 div.sk-dashed-wrapped {border: 1px dashed gray;margin: 0 0.4em 0.5em 0.4em;box-sizing: border-box;padding-bottom: 0.4em;background-color: white;}#sk-container-id-2 div.sk-label label {font-family: monospace;font-weight: bold;display: inline-block;line-height: 1.2em;}#sk-container-id-2 div.sk-label-container {text-align: center;}#sk-container-id-2 div.sk-container {/* jupyter's `normalize.less` sets `[hidden] { display: none; }` but bootstrap.min.css set `[hidden] { display: none !important; }` so we also need the `!important` here to be able to override the default hidden behavior on the sphinx rendered scikit-learn.org. See: https://github.com/scikit-learn/scikit-learn/issues/21755 */display: inline-block !important;position: relative;}#sk-container-id-2 div.sk-text-repr-fallback {display: none;}</style><div id=\"sk-container-id-2\" class=\"sk-top-container\"><div class=\"sk-text-repr-fallback\"><pre>LogisticRegression()</pre><b>In a Jupyter environment, please rerun this cell to show the HTML representation or trust the notebook. <br />On GitHub, the HTML representation is unable to render, please try loading this page with nbviewer.org.</b></div><div class=\"sk-container\" hidden><div class=\"sk-item\"><div class=\"sk-estimator sk-toggleable\"><input class=\"sk-toggleable__control sk-hidden--visually\" id=\"sk-estimator-id-2\" type=\"checkbox\" checked><label for=\"sk-estimator-id-2\" class=\"sk-toggleable__label sk-toggleable__label-arrow\">LogisticRegression</label><div class=\"sk-toggleable__content\"><pre>LogisticRegression()</pre></div></div></div></div></div>"
      ],
      "text/plain": [
       "LogisticRegression()"
      ]
     },
     "execution_count": 182,
     "metadata": {},
     "output_type": "execute_result"
    }
   ],
   "source": [
    "logicreg.fit(train_x_2, train_y_2)"
   ]
  },
  {
   "cell_type": "code",
   "execution_count": 188,
   "id": "0118107c-8e0f-451b-83c5-cbb8629ff6af",
   "metadata": {},
   "outputs": [
    {
     "data": {
      "text/plain": [
       "0.7612888586339914"
      ]
     },
     "execution_count": 188,
     "metadata": {},
     "output_type": "execute_result"
    }
   ],
   "source": [
    "logicreg.score(test_x_2, test_y_2)"
   ]
  },
  {
   "cell_type": "code",
   "execution_count": 190,
   "id": "97e1fc6f-5e90-47a6-945f-93899f9d807a",
   "metadata": {},
   "outputs": [],
   "source": [
    "seasonal_vaccine = logicreg.predict_proba(x_seas)[:,1]"
   ]
  },
  {
   "cell_type": "markdown",
   "id": "7f61d853-704f-40f8-881c-6d6fbe608305",
   "metadata": {
    "jp-MarkdownHeadingCollapsed": true
   },
   "source": [
    "# Create submission DataFrame"
   ]
  },
  {
   "cell_type": "code",
   "execution_count": 197,
   "id": "c413d78c-c6d2-40c8-80c0-4636cf69f08e",
   "metadata": {},
   "outputs": [],
   "source": [
    "submit = pd.DataFrame({'respondent_id': df['respondent_id'],\n",
    "                           'xyz_vaccine': xyz_vaccine,\n",
    "                           'seasonal_vaccine': seasonal_vaccine})"
   ]
  },
  {
   "cell_type": "code",
   "execution_count": 199,
   "id": "4b28284f-4cb2-44ba-b499-c5f24b846fdc",
   "metadata": {},
   "outputs": [
    {
     "data": {
      "text/html": [
       "<div>\n",
       "<style scoped>\n",
       "    .dataframe tbody tr th:only-of-type {\n",
       "        vertical-align: middle;\n",
       "    }\n",
       "\n",
       "    .dataframe tbody tr th {\n",
       "        vertical-align: top;\n",
       "    }\n",
       "\n",
       "    .dataframe thead th {\n",
       "        text-align: right;\n",
       "    }\n",
       "</style>\n",
       "<table border=\"1\" class=\"dataframe\">\n",
       "  <thead>\n",
       "    <tr style=\"text-align: right;\">\n",
       "      <th></th>\n",
       "      <th>respondent_id</th>\n",
       "      <th>xyz_vaccine</th>\n",
       "      <th>seasonal_vaccine</th>\n",
       "    </tr>\n",
       "  </thead>\n",
       "  <tbody>\n",
       "    <tr>\n",
       "      <th>0</th>\n",
       "      <td>0</td>\n",
       "      <td>0.033070</td>\n",
       "      <td>0.061804</td>\n",
       "    </tr>\n",
       "    <tr>\n",
       "      <th>1</th>\n",
       "      <td>1</td>\n",
       "      <td>0.287266</td>\n",
       "      <td>0.177134</td>\n",
       "    </tr>\n",
       "    <tr>\n",
       "      <th>2</th>\n",
       "      <td>2</td>\n",
       "      <td>0.036582</td>\n",
       "      <td>0.127578</td>\n",
       "    </tr>\n",
       "    <tr>\n",
       "      <th>3</th>\n",
       "      <td>3</td>\n",
       "      <td>0.090702</td>\n",
       "      <td>0.902824</td>\n",
       "    </tr>\n",
       "    <tr>\n",
       "      <th>4</th>\n",
       "      <td>4</td>\n",
       "      <td>0.059482</td>\n",
       "      <td>0.080855</td>\n",
       "    </tr>\n",
       "  </tbody>\n",
       "</table>\n",
       "</div>"
      ],
      "text/plain": [
       "   respondent_id  xyz_vaccine  seasonal_vaccine\n",
       "0              0     0.033070          0.061804\n",
       "1              1     0.287266          0.177134\n",
       "2              2     0.036582          0.127578\n",
       "3              3     0.090702          0.902824\n",
       "4              4     0.059482          0.080855"
      ]
     },
     "execution_count": 199,
     "metadata": {},
     "output_type": "execute_result"
    }
   ],
   "source": [
    "submit.head()"
   ]
  },
  {
   "cell_type": "code",
   "execution_count": 201,
   "id": "ac2378b5-e55b-42dc-9bf8-40623cd84df2",
   "metadata": {},
   "outputs": [],
   "source": [
    "submit.to_csv('submit.csv', index = False)"
   ]
  }
 ],
 "metadata": {
  "kernelspec": {
   "display_name": "Python 3 (ipykernel)",
   "language": "python",
   "name": "python3"
  },
  "language_info": {
   "codemirror_mode": {
    "name": "ipython",
    "version": 3
   },
   "file_extension": ".py",
   "mimetype": "text/x-python",
   "name": "python",
   "nbconvert_exporter": "python",
   "pygments_lexer": "ipython3",
   "version": "3.11.7"
  }
 },
 "nbformat": 4,
 "nbformat_minor": 5
}
